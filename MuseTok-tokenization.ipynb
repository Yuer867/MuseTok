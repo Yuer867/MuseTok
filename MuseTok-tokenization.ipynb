{
 "cells": [
  {
   "cell_type": "markdown",
   "id": "955cb77d",
   "metadata": {},
   "source": [
    "## Music Tokenization with MuseTok"
   ]
  },
  {
   "cell_type": "markdown",
   "id": "482462a1",
   "metadata": {},
   "source": [
    "This file provides the example codes for encoding a given MIDI file into MuseTok codes. "
   ]
  },
  {
   "cell_type": "markdown",
   "id": "8d2be97b",
   "metadata": {},
   "source": [
    "### Prepare the environment"
   ]
  },
  {
   "cell_type": "code",
   "execution_count": null,
   "id": "b460ba23",
   "metadata": {},
   "outputs": [],
   "source": [
    "!pip install -r requirements.txt"
   ]
  },
  {
   "cell_type": "markdown",
   "id": "dd160a0d",
   "metadata": {},
   "source": [
    "### Download checkpoints and unzip\n",
    "\n",
    "1. download checkpoints from link: https://drive.google.com/file/d/1HK534lEVdHYl3HMRkKvz8CWYliXRmOq_/view?usp=sharing"
   ]
  },
  {
   "cell_type": "code",
   "execution_count": null,
   "id": "565c4f32",
   "metadata": {},
   "outputs": [],
   "source": [
    "# 2. unzip the file\n",
    "!unzip ckpt.zip"
   ]
  },
  {
   "cell_type": "markdown",
   "id": "3701a62d",
   "metadata": {},
   "source": [
    "### Represent the MIDI file with REMI+ events\n",
    "\n",
    "We currently support the encoding of piano music with constant time signature of 2/4, 3/4, 4/4, 2/2, 3/8 and 6/8, or set to 4/4 by default if time signature is not provided in the MIDI file."
   ]
  },
  {
   "cell_type": "code",
   "execution_count": 5,
   "id": "61a638db",
   "metadata": {},
   "outputs": [
    {
     "name": "stdout",
     "output_type": "stream",
     "text": [
      "[info] Represent MIDI file test/Classic_358.mid ...\n",
      "[info] time signature = 4/4\n",
      "[info] got 16 bars, 999 events\n"
     ]
    }
   ],
   "source": [
    "from data_processing.midi2events import midi_analyzer, midi2corpus_strict, corpus2events\n",
    "\n",
    "file = 'test/Classic_358.mid'\n",
    "midi_obj, bar_resol = midi_analyzer(file)\n",
    "full_data = midi2corpus_strict(midi_obj, bar_resol, remove_overlap=True)\n",
    "pos, events = corpus2events(full_data, bar_resol, time_first=False, has_velocity=False, repeat_beat=True, remove_short=False)\n",
    "print('[info] got {} bars, {} events'.format(len(pos), len(events)))"
   ]
  },
  {
   "cell_type": "markdown",
   "id": "39a3248b",
   "metadata": {},
   "source": [
    "### Encoding with MuseTok"
   ]
  },
  {
   "cell_type": "code",
   "execution_count": 3,
   "id": "4cf17aad",
   "metadata": {},
   "outputs": [
    {
     "name": "stdout",
     "output_type": "stream",
     "text": [
      "[info] successfully load tokenizer\n"
     ]
    }
   ],
   "source": [
    "# load pre-trained tokenizer\n",
    "import torch\n",
    "from model.musetok import TransformerResidualVQ\n",
    "\n",
    "import warnings\n",
    "warnings.simplefilter(action='ignore')\n",
    "\n",
    "device = 'cuda'\n",
    "ckpt_path = 'ckpt/best_tokenizer/model.pt'\n",
    "model = TransformerResidualVQ(\n",
    "    enc_n_layer=12, enc_n_head=8, enc_d_model=512, enc_d_ff=2048,\n",
    "    dec_n_layer=12, dec_n_head=8, dec_d_model=512, dec_d_ff=2048,\n",
    "    d_vae_latent=128, d_embed=512, n_token=168,\n",
    "    num_quantizers=16, codebook_size=2048,\n",
    "    rotation_trick=True, rvq_type='SimVQ'\n",
    ").to(device)\n",
    "model.eval()\n",
    "model.load_state_dict(torch.load(ckpt_path, map_location='cpu'))\n",
    "print('[info] successfully load tokenizer')\n"
   ]
  },
  {
   "cell_type": "code",
   "execution_count": 4,
   "id": "45215a71",
   "metadata": {},
   "outputs": [
    {
     "name": "stdout",
     "output_type": "stream",
     "text": [
      "[info] Shape of MuseTok codes: (73, 16)\n",
      "[info] Shape of corresponding embeddings: (73, 128)\n"
     ]
    }
   ],
   "source": [
    "# encode music events\n",
    "from encoding import MuseTokEncoder\n",
    "encoder = MuseTokEncoder(model, device=device)\n",
    "\n",
    "music_data = encoder.get_segments(events, pos)\n",
    "indices, latents = encoder.encoding(music_data, return_latents=True)\n",
    "print('[info] Shape of MuseTok codes: {}'.format(indices.shape))\n",
    "print('[info] Shape of corresponding embeddings: {}'.format(latents.shape))"
   ]
  },
  {
   "cell_type": "markdown",
   "id": "55f719f4",
   "metadata": {},
   "source": []
  }
 ],
 "metadata": {
  "kernelspec": {
   "display_name": "mmp",
   "language": "python",
   "name": "python3"
  },
  "language_info": {
   "codemirror_mode": {
    "name": "ipython",
    "version": 3
   },
   "file_extension": ".py",
   "mimetype": "text/x-python",
   "name": "python",
   "nbconvert_exporter": "python",
   "pygments_lexer": "ipython3",
   "version": "3.10.16"
  }
 },
 "nbformat": 4,
 "nbformat_minor": 5
}
