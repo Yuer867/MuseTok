{
 "cells": [
  {
   "cell_type": "code",
   "execution_count": 1,
   "metadata": {},
   "outputs": [
    {
     "name": "stderr",
     "output_type": "stream",
     "text": [
      "/home/jingyue/miniconda3/envs/mmp/lib/python3.10/site-packages/tqdm/auto.py:21: TqdmWarning: IProgress not found. Please update jupyter and ipywidgets. See https://ipywidgets.readthedocs.io/en/stable/user_install.html\n",
      "  from .autonotebook import tqdm as notebook_tqdm\n"
     ]
    }
   ],
   "source": [
    "import sys, os, random, time\n",
    "from copy import deepcopy\n",
    "sys.path.append('./model')\n",
    "\n",
    "# from remiplus.input_representation import remi2midi  # PDMX-TODO\n",
    "from dataloader import RVQTokensDataset, REMIFullSongTransformerDataset\n",
    "from model.residualVQ import GPT2TokensGenerator, TransformerGenerator, TransformerResidualVQ\n",
    "from utils import pickle_load, numpy_to_tensor, tensor_to_numpy, pickle_dump\n",
    "\n",
    "import torch\n",
    "import yaml\n",
    "import numpy as np\n",
    "from scipy.stats import entropy"
   ]
  },
  {
   "cell_type": "code",
   "execution_count": 2,
   "metadata": {},
   "outputs": [],
   "source": [
    "config_path = 'config/generator_PDMX_balanced.yaml'\n",
    "config = yaml.load(open(config_path, 'r'), Loader=yaml.FullLoader)\n",
    "\n",
    "device = config['training']['device']"
   ]
  },
  {
   "cell_type": "code",
   "execution_count": 3,
   "metadata": {},
   "outputs": [
    {
     "name": "stdout",
     "output_type": "stream",
     "text": [
      "[preparing data] queue generated\n"
     ]
    }
   ],
   "source": [
    "dset_tokens = RVQTokensDataset(\n",
    "    data_dir=config['data']['data_dir'],\n",
    "    # pieces=pickle_load(config['data']['test_split']),\n",
    "    pieces=pickle_load(config['data']['train_split']),\n",
    "    model_max_bars=config['generate']['max_bars'],\n",
    "    num_tokens=config['data']['num_quantizers'],\n",
    "    codebook_size=config['data']['codebook_size'],\n",
    "    shuffle=False,\n",
    "    first_token_only=config['data']['first_token_only'],\n",
    "    first_token_first=config['data']['first_token_first']\n",
    "    )\n",
    "    "
   ]
  },
  {
   "cell_type": "code",
   "execution_count": 4,
   "metadata": {},
   "outputs": [
    {
     "name": "stderr",
     "output_type": "stream",
     "text": [
      "/tmp/ipykernel_3670210/2469001052.py:9: FutureWarning: You are using `torch.load` with `weights_only=False` (the current default value), which uses the default pickle module implicitly. It is possible to construct malicious pickle data which will execute arbitrary code during unpickling (See https://github.com/pytorch/pytorch/blob/main/SECURITY.md#untrusted-models for more details). In a future release, the default value for `weights_only` will be flipped to `True`. This limits the functions that could be executed during unpickling. Arbitrary objects will no longer be allowed to be loaded via this mode unless they are explicitly allowlisted by the user via `torch.serialization.add_safe_globals`. We recommend you start setting `weights_only=True` for any use case where you don't have full control of the loaded file. Please open an issue on GitHub for any issues related to this experimental feature.\n",
      "  generator.load_state_dict(torch.load(generator_path, map_location='cpu'))\n"
     ]
    },
    {
     "name": "stdout",
     "output_type": "stream",
     "text": [
      "[info] load generator\n"
     ]
    }
   ],
   "source": [
    "mconf = config['model']\n",
    "generator_path = 'ckpt/gen_12L_8H_512D_128E-16_bars_1280-pdmx-density/params/step_17000-RC_5.714-model.pt'\n",
    "\n",
    "generator = GPT2TokensGenerator(\n",
    "    mconf['dec_n_layer'], mconf['dec_n_head'], mconf['dec_d_model'], mconf['dec_d_ff'],\n",
    "    mconf['d_embed'], dset_tokens.vocab_size, config['data']['max_bars'], use_bar_emb=mconf['use_bar_emb']\n",
    ").to(device)\n",
    "generator.eval()\n",
    "generator.load_state_dict(torch.load(generator_path, map_location='cpu'))\n",
    "print('[info] load generator')"
   ]
  },
  {
   "cell_type": "code",
   "execution_count": null,
   "metadata": {},
   "outputs": [
    {
     "name": "stdout",
     "output_type": "stream",
     "text": [
      "2334\n",
      "tensor(0.6826, device='cuda:4')\n"
     ]
    },
    {
     "data": {
      "text/plain": [
       "torch.return_types.topk(\n",
       "values=tensor([0.3848, 0.1472, 0.0407, 0.0154, 0.0141, 0.0131, 0.0076, 0.0071, 0.0061,\n",
       "        0.0060, 0.0057, 0.0050, 0.0049, 0.0042, 0.0038, 0.0036, 0.0034, 0.0034,\n",
       "        0.0033, 0.0032], device='cuda:4'),\n",
       "indices=tensor([2219, 2936, 2471, 2140, 2916, 2454, 2497, 2984, 2181, 2182, 2723, 2201,\n",
       "        2549, 2494, 2555, 2073, 2827, 2950, 2975, 2049], device='cuda:4'))"
      ]
     },
     "execution_count": 7,
     "metadata": {},
     "output_type": "execute_result"
    },
    {
     "ename": "",
     "evalue": "",
     "output_type": "error",
     "traceback": [
      "\u001b[1;31mThe Kernel crashed while executing code in the current cell or a previous cell. \n",
      "\u001b[1;31mPlease review the code in the cell(s) to identify a possible cause of the failure. \n",
      "\u001b[1;31mClick <a href='https://aka.ms/vscodeJupyterKernelCrash'>here</a> for more info. \n",
      "\u001b[1;31mView Jupyter <a href='command:jupyter.viewOutput'>log</a> for further details."
     ]
    }
   ],
   "source": [
    "n_pieces = 1\n",
    "primer_n_bar = 8\n",
    "num_tokens = config['generate']['num_quantizers']\n",
    "max_bars = config['generate']['max_bars']\n",
    "\n",
    "pieces = random.sample(range(len(dset_tokens)), n_pieces)\n",
    "for p in range(n_pieces):\n",
    "    p_data = dset_tokens[pieces[p]]\n",
    "    p_prompt = p_data['dec_input'][:(1 + primer_n_bar * num_tokens + 2)]\n",
    "    p_next = p_data['dec_input'][1 + primer_n_bar * num_tokens + 2]\n",
    "    print(p_next)\n",
    "    \n",
    "    bar_pos = np.concatenate(([max_bars], np.repeat(np.arange(max_bars), num_tokens)))\n",
    "    \n",
    "    dec_input = numpy_to_tensor([p_prompt], device=device).permute(1, 0).long()\n",
    "    dec_bar = numpy_to_tensor([bar_pos[:len(p_prompt)]], device=device).permute(1, 0).long()\n",
    "\n",
    "    # sampling\n",
    "    with torch.no_grad():\n",
    "        logits = generator.generate(dec_input, dec_bar)[0]\n",
    "    prob = torch.softmax(logits, 0)\n",
    "\n",
    "    predicted_k_indexes = torch.topk(prob,k=20)\n",
    "    print(torch.sum(predicted_k_indexes[0]))\n",
    "    \n",
    "predicted_k_indexes\n",
    "    "
   ]
  },
  {
   "cell_type": "code",
   "execution_count": null,
   "metadata": {},
   "outputs": [],
   "source": []
  }
 ],
 "metadata": {
  "kernelspec": {
   "display_name": "mmp",
   "language": "python",
   "name": "python3"
  },
  "language_info": {
   "codemirror_mode": {
    "name": "ipython",
    "version": 3
   },
   "file_extension": ".py",
   "mimetype": "text/x-python",
   "name": "python",
   "nbconvert_exporter": "python",
   "pygments_lexer": "ipython3",
   "version": "3.10.16"
  }
 },
 "nbformat": 4,
 "nbformat_minor": 2
}
